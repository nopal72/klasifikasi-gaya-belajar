{
  "cells": [
    {
      "cell_type": "markdown",
      "metadata": {
        "id": "view-in-github",
        "colab_type": "text"
      },
      "source": [
        "<a href=\"https://colab.research.google.com/github/nopal72/klasifikasi-gaya-belajar/blob/XGBOOST/XGBOOST_%2B_SMOTE__klasifikasi_gaya_belajar.ipynb\" target=\"_parent\"><img src=\"https://colab.research.google.com/assets/colab-badge.svg\" alt=\"Open In Colab\"/></a>"
      ]
    },
    {
      "cell_type": "code",
      "execution_count": null,
      "metadata": {
        "id": "rpSYxcSQrsiC"
      },
      "outputs": [],
      "source": [
        "import pandas as pd\n",
        "import numpy as np\n",
        "import seaborn as sns\n",
        "from sklearn.ensemble import RandomForestClassifier\n",
        "from sklearn.model_selection import train_test_split\n",
        "from sklearn.metrics import accuracy_score, recall_score, precision_score, f1_score\n",
        "from sklearn.metrics import confusion_matrix\n",
        "import pickle\n",
        "import matplotlib.pyplot as plt\n",
        "from google.colab import drive\n",
        "from xgboost import XGBClassifier\n",
        "from imblearn.over_sampling import SMOTE"
      ]
    },
    {
      "cell_type": "code",
      "execution_count": null,
      "metadata": {
        "colab": {
          "base_uri": "https://localhost:8080/"
        },
        "id": "db0LNvjLs4fa",
        "outputId": "280cb45c-78ed-4e17-e8c0-9ba3ca161133"
      },
      "outputs": [
        {
          "output_type": "stream",
          "name": "stdout",
          "text": [
            "Mounted at /content/drive\n"
          ]
        }
      ],
      "source": [
        "drive.mount('/content/drive')\n",
        "file_path = '/content/drive/MyDrive/dataset/my_csv.csv'\n",
        "\n",
        "df = pd.read_csv(file_path)"
      ]
    },
    {
      "cell_type": "code",
      "execution_count": null,
      "metadata": {
        "colab": {
          "base_uri": "https://localhost:8080/",
          "height": 400
        },
        "id": "uDWskN7OuVcs",
        "outputId": "9e0fc998-3f91-4540-d830-873d97ca479d"
      },
      "outputs": [
        {
          "output_type": "execute_result",
          "data": {
            "text/plain": [
              "   Gender  Age  \\\n",
              "0    Male   16   \n",
              "1    Male   16   \n",
              "2    Male   18   \n",
              "3    Male   21   \n",
              "4  Female   21   \n",
              "\n",
              "   I learn better by reading what the teacher writes on the chalkboard.  \\\n",
              "0                                                  3                      \n",
              "1                                                  5                      \n",
              "2                                                  3                      \n",
              "3                                                  1                      \n",
              "4                                                  4                      \n",
              "\n",
              "   When I read instructions, I remember them better.  \\\n",
              "0                                                  3   \n",
              "1                                                  4   \n",
              "2                                                  4   \n",
              "3                                                  3   \n",
              "4                                                  4   \n",
              "\n",
              "   I understand better when I read instructions.  \\\n",
              "0                                              4   \n",
              "1                                              4   \n",
              "2                                              3   \n",
              "3                                              3   \n",
              "4                                              4   \n",
              "\n",
              "   I learn better by reading than by listening to someone.  \\\n",
              "0                                                  3         \n",
              "1                                                  4         \n",
              "2                                                  3         \n",
              "3                                                  4         \n",
              "4                                                  5         \n",
              "\n",
              "   I learn more by reading textbooks than by listening to lectures.  \\\n",
              "0                                                  2                  \n",
              "1                                                  3                  \n",
              "2                                                  4                  \n",
              "3                                                  4                  \n",
              "4                                                  5                  \n",
              "\n",
              "   When the teacher tells me the instructions I understand better  \\\n",
              "0                                                  4                \n",
              "1                                                  3                \n",
              "2                                                  2                \n",
              "3                                                  2                \n",
              "4                                                  4                \n",
              "\n",
              "   When someone tells me how to do something in class, I learn it better.  \\\n",
              "0                                                  3                        \n",
              "1                                                  2                        \n",
              "2                                                  4                        \n",
              "3                                                  2                        \n",
              "4                                                  4                        \n",
              "\n",
              "   I remember things I have heard in class better than things I have read.  \\\n",
              "0                                                  3                         \n",
              "1                                                  4                         \n",
              "2                                                  3                         \n",
              "3                                                  2                         \n",
              "4                                                  3                         \n",
              "\n",
              "   I learn better in class when the teacher gives a lecture.  \\\n",
              "0                                                  2           \n",
              "1                                                  3           \n",
              "2                                                  2           \n",
              "3                                                  2           \n",
              "4                                                  4           \n",
              "\n",
              "   I learn better in class when I listen to someone.  \\\n",
              "0                                                  3   \n",
              "1                                                  4   \n",
              "2                                                  2   \n",
              "3                                                  2   \n",
              "4                                                  4   \n",
              "\n",
              "   I prefer to learn by doing something in class.  \\\n",
              "0                                               4   \n",
              "1                                               3   \n",
              "2                                               3   \n",
              "3                                               4   \n",
              "4                                               5   \n",
              "\n",
              "   When I do things in class, I learn better.  \\\n",
              "0                                           2   \n",
              "1                                           4   \n",
              "2                                           2   \n",
              "3                                           4   \n",
              "4                                           5   \n",
              "\n",
              "   I enjoy learning in class by doing experiments.  \\\n",
              "0                                                2   \n",
              "1                                                3   \n",
              "2                                                3   \n",
              "3                                                4   \n",
              "4                                                5   \n",
              "\n",
              "   I understand things better in class when I participate in role-playing.  \\\n",
              "0                                                  3                         \n",
              "1                                                  4                         \n",
              "2                                                  3                         \n",
              "3                                                  4                         \n",
              "4                                                  3                         \n",
              "\n",
              "   I understand things better in class when I participate in role-playing..1  \\\n",
              "0                                                  3                           \n",
              "1                                                  4                           \n",
              "2                                                  3                           \n",
              "3                                                  5                           \n",
              "4                                                  3                           \n",
              "\n",
              "  Learner  \n",
              "0       K  \n",
              "1       A  \n",
              "2       A  \n",
              "3       K  \n",
              "4       A  "
            ],
            "text/html": [
              "\n",
              "  <div id=\"df-38764aaa-822b-457a-9ef7-2d86740c82a8\" class=\"colab-df-container\">\n",
              "    <div>\n",
              "<style scoped>\n",
              "    .dataframe tbody tr th:only-of-type {\n",
              "        vertical-align: middle;\n",
              "    }\n",
              "\n",
              "    .dataframe tbody tr th {\n",
              "        vertical-align: top;\n",
              "    }\n",
              "\n",
              "    .dataframe thead th {\n",
              "        text-align: right;\n",
              "    }\n",
              "</style>\n",
              "<table border=\"1\" class=\"dataframe\">\n",
              "  <thead>\n",
              "    <tr style=\"text-align: right;\">\n",
              "      <th></th>\n",
              "      <th>Gender</th>\n",
              "      <th>Age</th>\n",
              "      <th>I learn better by reading what the teacher writes on the chalkboard.</th>\n",
              "      <th>When I read instructions, I remember them better.</th>\n",
              "      <th>I understand better when I read instructions.</th>\n",
              "      <th>I learn better by reading than by listening to someone.</th>\n",
              "      <th>I learn more by reading textbooks than by listening to lectures.</th>\n",
              "      <th>When the teacher tells me the instructions I understand better</th>\n",
              "      <th>When someone tells me how to do something in class, I learn it better.</th>\n",
              "      <th>I remember things I have heard in class better than things I have read.</th>\n",
              "      <th>I learn better in class when the teacher gives a lecture.</th>\n",
              "      <th>I learn better in class when I listen to someone.</th>\n",
              "      <th>I prefer to learn by doing something in class.</th>\n",
              "      <th>When I do things in class, I learn better.</th>\n",
              "      <th>I enjoy learning in class by doing experiments.</th>\n",
              "      <th>I understand things better in class when I participate in role-playing.</th>\n",
              "      <th>I understand things better in class when I participate in role-playing..1</th>\n",
              "      <th>Learner</th>\n",
              "    </tr>\n",
              "  </thead>\n",
              "  <tbody>\n",
              "    <tr>\n",
              "      <th>0</th>\n",
              "      <td>Male</td>\n",
              "      <td>16</td>\n",
              "      <td>3</td>\n",
              "      <td>3</td>\n",
              "      <td>4</td>\n",
              "      <td>3</td>\n",
              "      <td>2</td>\n",
              "      <td>4</td>\n",
              "      <td>3</td>\n",
              "      <td>3</td>\n",
              "      <td>2</td>\n",
              "      <td>3</td>\n",
              "      <td>4</td>\n",
              "      <td>2</td>\n",
              "      <td>2</td>\n",
              "      <td>3</td>\n",
              "      <td>3</td>\n",
              "      <td>K</td>\n",
              "    </tr>\n",
              "    <tr>\n",
              "      <th>1</th>\n",
              "      <td>Male</td>\n",
              "      <td>16</td>\n",
              "      <td>5</td>\n",
              "      <td>4</td>\n",
              "      <td>4</td>\n",
              "      <td>4</td>\n",
              "      <td>3</td>\n",
              "      <td>3</td>\n",
              "      <td>2</td>\n",
              "      <td>4</td>\n",
              "      <td>3</td>\n",
              "      <td>4</td>\n",
              "      <td>3</td>\n",
              "      <td>4</td>\n",
              "      <td>3</td>\n",
              "      <td>4</td>\n",
              "      <td>4</td>\n",
              "      <td>A</td>\n",
              "    </tr>\n",
              "    <tr>\n",
              "      <th>2</th>\n",
              "      <td>Male</td>\n",
              "      <td>18</td>\n",
              "      <td>3</td>\n",
              "      <td>4</td>\n",
              "      <td>3</td>\n",
              "      <td>3</td>\n",
              "      <td>4</td>\n",
              "      <td>2</td>\n",
              "      <td>4</td>\n",
              "      <td>3</td>\n",
              "      <td>2</td>\n",
              "      <td>2</td>\n",
              "      <td>3</td>\n",
              "      <td>2</td>\n",
              "      <td>3</td>\n",
              "      <td>3</td>\n",
              "      <td>3</td>\n",
              "      <td>A</td>\n",
              "    </tr>\n",
              "    <tr>\n",
              "      <th>3</th>\n",
              "      <td>Male</td>\n",
              "      <td>21</td>\n",
              "      <td>1</td>\n",
              "      <td>3</td>\n",
              "      <td>3</td>\n",
              "      <td>4</td>\n",
              "      <td>4</td>\n",
              "      <td>2</td>\n",
              "      <td>2</td>\n",
              "      <td>2</td>\n",
              "      <td>2</td>\n",
              "      <td>2</td>\n",
              "      <td>4</td>\n",
              "      <td>4</td>\n",
              "      <td>4</td>\n",
              "      <td>4</td>\n",
              "      <td>5</td>\n",
              "      <td>K</td>\n",
              "    </tr>\n",
              "    <tr>\n",
              "      <th>4</th>\n",
              "      <td>Female</td>\n",
              "      <td>21</td>\n",
              "      <td>4</td>\n",
              "      <td>4</td>\n",
              "      <td>4</td>\n",
              "      <td>5</td>\n",
              "      <td>5</td>\n",
              "      <td>4</td>\n",
              "      <td>4</td>\n",
              "      <td>3</td>\n",
              "      <td>4</td>\n",
              "      <td>4</td>\n",
              "      <td>5</td>\n",
              "      <td>5</td>\n",
              "      <td>5</td>\n",
              "      <td>3</td>\n",
              "      <td>3</td>\n",
              "      <td>A</td>\n",
              "    </tr>\n",
              "  </tbody>\n",
              "</table>\n",
              "</div>\n",
              "    <div class=\"colab-df-buttons\">\n",
              "\n",
              "  <div class=\"colab-df-container\">\n",
              "    <button class=\"colab-df-convert\" onclick=\"convertToInteractive('df-38764aaa-822b-457a-9ef7-2d86740c82a8')\"\n",
              "            title=\"Convert this dataframe to an interactive table.\"\n",
              "            style=\"display:none;\">\n",
              "\n",
              "  <svg xmlns=\"http://www.w3.org/2000/svg\" height=\"24px\" viewBox=\"0 -960 960 960\">\n",
              "    <path d=\"M120-120v-720h720v720H120Zm60-500h600v-160H180v160Zm220 220h160v-160H400v160Zm0 220h160v-160H400v160ZM180-400h160v-160H180v160Zm440 0h160v-160H620v160ZM180-180h160v-160H180v160Zm440 0h160v-160H620v160Z\"/>\n",
              "  </svg>\n",
              "    </button>\n",
              "\n",
              "  <style>\n",
              "    .colab-df-container {\n",
              "      display:flex;\n",
              "      gap: 12px;\n",
              "    }\n",
              "\n",
              "    .colab-df-convert {\n",
              "      background-color: #E8F0FE;\n",
              "      border: none;\n",
              "      border-radius: 50%;\n",
              "      cursor: pointer;\n",
              "      display: none;\n",
              "      fill: #1967D2;\n",
              "      height: 32px;\n",
              "      padding: 0 0 0 0;\n",
              "      width: 32px;\n",
              "    }\n",
              "\n",
              "    .colab-df-convert:hover {\n",
              "      background-color: #E2EBFA;\n",
              "      box-shadow: 0px 1px 2px rgba(60, 64, 67, 0.3), 0px 1px 3px 1px rgba(60, 64, 67, 0.15);\n",
              "      fill: #174EA6;\n",
              "    }\n",
              "\n",
              "    .colab-df-buttons div {\n",
              "      margin-bottom: 4px;\n",
              "    }\n",
              "\n",
              "    [theme=dark] .colab-df-convert {\n",
              "      background-color: #3B4455;\n",
              "      fill: #D2E3FC;\n",
              "    }\n",
              "\n",
              "    [theme=dark] .colab-df-convert:hover {\n",
              "      background-color: #434B5C;\n",
              "      box-shadow: 0px 1px 3px 1px rgba(0, 0, 0, 0.15);\n",
              "      filter: drop-shadow(0px 1px 2px rgba(0, 0, 0, 0.3));\n",
              "      fill: #FFFFFF;\n",
              "    }\n",
              "  </style>\n",
              "\n",
              "    <script>\n",
              "      const buttonEl =\n",
              "        document.querySelector('#df-38764aaa-822b-457a-9ef7-2d86740c82a8 button.colab-df-convert');\n",
              "      buttonEl.style.display =\n",
              "        google.colab.kernel.accessAllowed ? 'block' : 'none';\n",
              "\n",
              "      async function convertToInteractive(key) {\n",
              "        const element = document.querySelector('#df-38764aaa-822b-457a-9ef7-2d86740c82a8');\n",
              "        const dataTable =\n",
              "          await google.colab.kernel.invokeFunction('convertToInteractive',\n",
              "                                                    [key], {});\n",
              "        if (!dataTable) return;\n",
              "\n",
              "        const docLinkHtml = 'Like what you see? Visit the ' +\n",
              "          '<a target=\"_blank\" href=https://colab.research.google.com/notebooks/data_table.ipynb>data table notebook</a>'\n",
              "          + ' to learn more about interactive tables.';\n",
              "        element.innerHTML = '';\n",
              "        dataTable['output_type'] = 'display_data';\n",
              "        await google.colab.output.renderOutput(dataTable, element);\n",
              "        const docLink = document.createElement('div');\n",
              "        docLink.innerHTML = docLinkHtml;\n",
              "        element.appendChild(docLink);\n",
              "      }\n",
              "    </script>\n",
              "  </div>\n",
              "\n",
              "\n",
              "    <div id=\"df-c39bacb6-aeed-406e-a758-7c6f18042def\">\n",
              "      <button class=\"colab-df-quickchart\" onclick=\"quickchart('df-c39bacb6-aeed-406e-a758-7c6f18042def')\"\n",
              "                title=\"Suggest charts\"\n",
              "                style=\"display:none;\">\n",
              "\n",
              "<svg xmlns=\"http://www.w3.org/2000/svg\" height=\"24px\"viewBox=\"0 0 24 24\"\n",
              "     width=\"24px\">\n",
              "    <g>\n",
              "        <path d=\"M19 3H5c-1.1 0-2 .9-2 2v14c0 1.1.9 2 2 2h14c1.1 0 2-.9 2-2V5c0-1.1-.9-2-2-2zM9 17H7v-7h2v7zm4 0h-2V7h2v10zm4 0h-2v-4h2v4z\"/>\n",
              "    </g>\n",
              "</svg>\n",
              "      </button>\n",
              "\n",
              "<style>\n",
              "  .colab-df-quickchart {\n",
              "      --bg-color: #E8F0FE;\n",
              "      --fill-color: #1967D2;\n",
              "      --hover-bg-color: #E2EBFA;\n",
              "      --hover-fill-color: #174EA6;\n",
              "      --disabled-fill-color: #AAA;\n",
              "      --disabled-bg-color: #DDD;\n",
              "  }\n",
              "\n",
              "  [theme=dark] .colab-df-quickchart {\n",
              "      --bg-color: #3B4455;\n",
              "      --fill-color: #D2E3FC;\n",
              "      --hover-bg-color: #434B5C;\n",
              "      --hover-fill-color: #FFFFFF;\n",
              "      --disabled-bg-color: #3B4455;\n",
              "      --disabled-fill-color: #666;\n",
              "  }\n",
              "\n",
              "  .colab-df-quickchart {\n",
              "    background-color: var(--bg-color);\n",
              "    border: none;\n",
              "    border-radius: 50%;\n",
              "    cursor: pointer;\n",
              "    display: none;\n",
              "    fill: var(--fill-color);\n",
              "    height: 32px;\n",
              "    padding: 0;\n",
              "    width: 32px;\n",
              "  }\n",
              "\n",
              "  .colab-df-quickchart:hover {\n",
              "    background-color: var(--hover-bg-color);\n",
              "    box-shadow: 0 1px 2px rgba(60, 64, 67, 0.3), 0 1px 3px 1px rgba(60, 64, 67, 0.15);\n",
              "    fill: var(--button-hover-fill-color);\n",
              "  }\n",
              "\n",
              "  .colab-df-quickchart-complete:disabled,\n",
              "  .colab-df-quickchart-complete:disabled:hover {\n",
              "    background-color: var(--disabled-bg-color);\n",
              "    fill: var(--disabled-fill-color);\n",
              "    box-shadow: none;\n",
              "  }\n",
              "\n",
              "  .colab-df-spinner {\n",
              "    border: 2px solid var(--fill-color);\n",
              "    border-color: transparent;\n",
              "    border-bottom-color: var(--fill-color);\n",
              "    animation:\n",
              "      spin 1s steps(1) infinite;\n",
              "  }\n",
              "\n",
              "  @keyframes spin {\n",
              "    0% {\n",
              "      border-color: transparent;\n",
              "      border-bottom-color: var(--fill-color);\n",
              "      border-left-color: var(--fill-color);\n",
              "    }\n",
              "    20% {\n",
              "      border-color: transparent;\n",
              "      border-left-color: var(--fill-color);\n",
              "      border-top-color: var(--fill-color);\n",
              "    }\n",
              "    30% {\n",
              "      border-color: transparent;\n",
              "      border-left-color: var(--fill-color);\n",
              "      border-top-color: var(--fill-color);\n",
              "      border-right-color: var(--fill-color);\n",
              "    }\n",
              "    40% {\n",
              "      border-color: transparent;\n",
              "      border-right-color: var(--fill-color);\n",
              "      border-top-color: var(--fill-color);\n",
              "    }\n",
              "    60% {\n",
              "      border-color: transparent;\n",
              "      border-right-color: var(--fill-color);\n",
              "    }\n",
              "    80% {\n",
              "      border-color: transparent;\n",
              "      border-right-color: var(--fill-color);\n",
              "      border-bottom-color: var(--fill-color);\n",
              "    }\n",
              "    90% {\n",
              "      border-color: transparent;\n",
              "      border-bottom-color: var(--fill-color);\n",
              "    }\n",
              "  }\n",
              "</style>\n",
              "\n",
              "      <script>\n",
              "        async function quickchart(key) {\n",
              "          const quickchartButtonEl =\n",
              "            document.querySelector('#' + key + ' button');\n",
              "          quickchartButtonEl.disabled = true;  // To prevent multiple clicks.\n",
              "          quickchartButtonEl.classList.add('colab-df-spinner');\n",
              "          try {\n",
              "            const charts = await google.colab.kernel.invokeFunction(\n",
              "                'suggestCharts', [key], {});\n",
              "          } catch (error) {\n",
              "            console.error('Error during call to suggestCharts:', error);\n",
              "          }\n",
              "          quickchartButtonEl.classList.remove('colab-df-spinner');\n",
              "          quickchartButtonEl.classList.add('colab-df-quickchart-complete');\n",
              "        }\n",
              "        (() => {\n",
              "          let quickchartButtonEl =\n",
              "            document.querySelector('#df-c39bacb6-aeed-406e-a758-7c6f18042def button');\n",
              "          quickchartButtonEl.style.display =\n",
              "            google.colab.kernel.accessAllowed ? 'block' : 'none';\n",
              "        })();\n",
              "      </script>\n",
              "    </div>\n",
              "\n",
              "    </div>\n",
              "  </div>\n"
            ],
            "application/vnd.google.colaboratory.intrinsic+json": {
              "type": "dataframe",
              "variable_name": "df",
              "summary": "{\n  \"name\": \"df\",\n  \"rows\": 1210,\n  \"fields\": [\n    {\n      \"column\": \"Gender\",\n      \"properties\": {\n        \"dtype\": \"category\",\n        \"num_unique_values\": 2,\n        \"samples\": [\n          \"Female\",\n          \"Male\"\n        ],\n        \"semantic_type\": \"\",\n        \"description\": \"\"\n      }\n    },\n    {\n      \"column\": \"Age\",\n      \"properties\": {\n        \"dtype\": \"number\",\n        \"std\": 2,\n        \"min\": 10,\n        \"max\": 32,\n        \"num_unique_values\": 13,\n        \"samples\": [\n          22,\n          14\n        ],\n        \"semantic_type\": \"\",\n        \"description\": \"\"\n      }\n    },\n    {\n      \"column\": \"I learn better by reading what the teacher writes on the chalkboard.\",\n      \"properties\": {\n        \"dtype\": \"number\",\n        \"std\": 1,\n        \"min\": 1,\n        \"max\": 5,\n        \"num_unique_values\": 5,\n        \"samples\": [\n          5,\n          2\n        ],\n        \"semantic_type\": \"\",\n        \"description\": \"\"\n      }\n    },\n    {\n      \"column\": \"When I read instructions, I remember them better.\",\n      \"properties\": {\n        \"dtype\": \"number\",\n        \"std\": 0,\n        \"min\": 1,\n        \"max\": 5,\n        \"num_unique_values\": 5,\n        \"samples\": [\n          4,\n          2\n        ],\n        \"semantic_type\": \"\",\n        \"description\": \"\"\n      }\n    },\n    {\n      \"column\": \"I understand better when I read instructions.\",\n      \"properties\": {\n        \"dtype\": \"number\",\n        \"std\": 1,\n        \"min\": 1,\n        \"max\": 5,\n        \"num_unique_values\": 5,\n        \"samples\": [\n          3,\n          1\n        ],\n        \"semantic_type\": \"\",\n        \"description\": \"\"\n      }\n    },\n    {\n      \"column\": \"I learn better by reading than by listening to someone.\",\n      \"properties\": {\n        \"dtype\": \"number\",\n        \"std\": 1,\n        \"min\": 1,\n        \"max\": 5,\n        \"num_unique_values\": 5,\n        \"samples\": [\n          4,\n          2\n        ],\n        \"semantic_type\": \"\",\n        \"description\": \"\"\n      }\n    },\n    {\n      \"column\": \"I learn more by reading textbooks than by listening to lectures.\",\n      \"properties\": {\n        \"dtype\": \"number\",\n        \"std\": 1,\n        \"min\": 1,\n        \"max\": 5,\n        \"num_unique_values\": 5,\n        \"samples\": [\n          3,\n          1\n        ],\n        \"semantic_type\": \"\",\n        \"description\": \"\"\n      }\n    },\n    {\n      \"column\": \"When the teacher tells me the instructions I understand better\",\n      \"properties\": {\n        \"dtype\": \"number\",\n        \"std\": 1,\n        \"min\": 1,\n        \"max\": 5,\n        \"num_unique_values\": 5,\n        \"samples\": [\n          3,\n          1\n        ],\n        \"semantic_type\": \"\",\n        \"description\": \"\"\n      }\n    },\n    {\n      \"column\": \"When someone tells me how to do something in class, I learn it better.\",\n      \"properties\": {\n        \"dtype\": \"number\",\n        \"std\": 1,\n        \"min\": 1,\n        \"max\": 5,\n        \"num_unique_values\": 5,\n        \"samples\": [\n          2,\n          5\n        ],\n        \"semantic_type\": \"\",\n        \"description\": \"\"\n      }\n    },\n    {\n      \"column\": \"I remember things I have heard in class better than things I have read.\",\n      \"properties\": {\n        \"dtype\": \"number\",\n        \"std\": 1,\n        \"min\": 1,\n        \"max\": 5,\n        \"num_unique_values\": 5,\n        \"samples\": [\n          4,\n          1\n        ],\n        \"semantic_type\": \"\",\n        \"description\": \"\"\n      }\n    },\n    {\n      \"column\": \"I learn better in class when the teacher gives a lecture.\",\n      \"properties\": {\n        \"dtype\": \"number\",\n        \"std\": 1,\n        \"min\": 1,\n        \"max\": 5,\n        \"num_unique_values\": 5,\n        \"samples\": [\n          3,\n          1\n        ],\n        \"semantic_type\": \"\",\n        \"description\": \"\"\n      }\n    },\n    {\n      \"column\": \"I learn better in class when I listen to someone.\",\n      \"properties\": {\n        \"dtype\": \"number\",\n        \"std\": 1,\n        \"min\": 1,\n        \"max\": 5,\n        \"num_unique_values\": 5,\n        \"samples\": [\n          4,\n          1\n        ],\n        \"semantic_type\": \"\",\n        \"description\": \"\"\n      }\n    },\n    {\n      \"column\": \"I prefer to learn by doing something in class.\",\n      \"properties\": {\n        \"dtype\": \"number\",\n        \"std\": 1,\n        \"min\": 1,\n        \"max\": 5,\n        \"num_unique_values\": 5,\n        \"samples\": [\n          3,\n          2\n        ],\n        \"semantic_type\": \"\",\n        \"description\": \"\"\n      }\n    },\n    {\n      \"column\": \"When I do things in class, I learn better.\",\n      \"properties\": {\n        \"dtype\": \"number\",\n        \"std\": 1,\n        \"min\": 1,\n        \"max\": 5,\n        \"num_unique_values\": 5,\n        \"samples\": [\n          4,\n          1\n        ],\n        \"semantic_type\": \"\",\n        \"description\": \"\"\n      }\n    },\n    {\n      \"column\": \"I enjoy learning in class by doing experiments.\",\n      \"properties\": {\n        \"dtype\": \"number\",\n        \"std\": 1,\n        \"min\": 1,\n        \"max\": 5,\n        \"num_unique_values\": 5,\n        \"samples\": [\n          3,\n          1\n        ],\n        \"semantic_type\": \"\",\n        \"description\": \"\"\n      }\n    },\n    {\n      \"column\": \"I understand things better in class when I participate in role-playing.\",\n      \"properties\": {\n        \"dtype\": \"number\",\n        \"std\": 1,\n        \"min\": 1,\n        \"max\": 5,\n        \"num_unique_values\": 5,\n        \"samples\": [\n          4,\n          2\n        ],\n        \"semantic_type\": \"\",\n        \"description\": \"\"\n      }\n    },\n    {\n      \"column\": \"I understand things better in class when I participate in role-playing..1\",\n      \"properties\": {\n        \"dtype\": \"number\",\n        \"std\": 0,\n        \"min\": 1,\n        \"max\": 5,\n        \"num_unique_values\": 5,\n        \"samples\": [\n          4,\n          1\n        ],\n        \"semantic_type\": \"\",\n        \"description\": \"\"\n      }\n    },\n    {\n      \"column\": \"Learner\",\n      \"properties\": {\n        \"dtype\": \"category\",\n        \"num_unique_values\": 3,\n        \"samples\": [\n          \"K\",\n          \"A\"\n        ],\n        \"semantic_type\": \"\",\n        \"description\": \"\"\n      }\n    }\n  ]\n}"
            }
          },
          "metadata": {},
          "execution_count": 3
        }
      ],
      "source": [
        "df.head()"
      ]
    },
    {
      "cell_type": "code",
      "execution_count": null,
      "metadata": {
        "colab": {
          "base_uri": "https://localhost:8080/"
        },
        "id": "HawQd0BQq7A2",
        "outputId": "063387d5-9053-4549-85fe-72801dffe970"
      },
      "outputs": [
        {
          "output_type": "execute_result",
          "data": {
            "text/plain": [
              "(1210, 18)"
            ]
          },
          "metadata": {},
          "execution_count": 4
        }
      ],
      "source": [
        "df.shape"
      ]
    },
    {
      "cell_type": "code",
      "execution_count": null,
      "metadata": {
        "colab": {
          "base_uri": "https://localhost:8080/"
        },
        "id": "2bZV0C5Bq88b",
        "outputId": "71bd3c19-90ac-4f46-c7ac-2bfb5f656282"
      },
      "outputs": [
        {
          "output_type": "execute_result",
          "data": {
            "text/plain": [
              "Index(['Gender', 'Age',\n",
              "       'I learn better by reading what the teacher writes on the chalkboard.',\n",
              "       'When I read instructions, I remember them better.',\n",
              "       'I understand better when I read instructions.',\n",
              "       'I learn better by reading than by listening to someone.',\n",
              "       'I learn more by reading textbooks than by listening to lectures.',\n",
              "       'When the teacher tells me the instructions I understand better',\n",
              "       'When someone tells me how to do something in class, I learn it better.',\n",
              "       'I remember things I have heard in class better than things I have read.',\n",
              "       'I learn better in class when the teacher gives a lecture.',\n",
              "       'I learn better in class when I listen to someone.',\n",
              "       'I prefer to learn by doing something in class.',\n",
              "       'When I do things in class, I learn better.',\n",
              "       'I enjoy learning in class by doing experiments.',\n",
              "       'I understand things better in class when I participate in role-playing.',\n",
              "       'I understand things better in class when I participate in role-playing..1',\n",
              "       'Learner'],\n",
              "      dtype='object')"
            ]
          },
          "metadata": {},
          "execution_count": 5
        }
      ],
      "source": [
        "df.columns"
      ]
    },
    {
      "cell_type": "markdown",
      "metadata": {
        "id": "xdsmjZlXvdIT"
      },
      "source": [
        "#Merubah Nama Kolum"
      ]
    },
    {
      "cell_type": "code",
      "execution_count": null,
      "metadata": {
        "colab": {
          "base_uri": "https://localhost:8080/"
        },
        "id": "zUma5UafvALg",
        "outputId": "28296fa0-5cae-4879-ed85-c388f6d24b43"
      },
      "outputs": [
        {
          "output_type": "execute_result",
          "data": {
            "text/plain": [
              "['Gender',\n",
              " 'Age',\n",
              " 'a1',\n",
              " 'a2',\n",
              " 'a3',\n",
              " 'a4',\n",
              " 'a5',\n",
              " 'v1',\n",
              " 'v2',\n",
              " 'v3',\n",
              " 'v4',\n",
              " 'v5',\n",
              " 'k1',\n",
              " 'k2',\n",
              " 'k3',\n",
              " 'k4',\n",
              " 'k5',\n",
              " 'learner']"
            ]
          },
          "metadata": {},
          "execution_count": 6
        }
      ],
      "source": [
        "col_names = ['Gender', 'Age', 'a1', 'a2','a3','a4','a5','v1','v2','v3','v4','v5','k1','k2','k3','k4','k5','learner']\n",
        "\n",
        "df.columns = col_names\n",
        "col_names"
      ]
    },
    {
      "cell_type": "markdown",
      "metadata": {
        "id": "Y_gFXH5TwC6j"
      },
      "source": [
        "#Lihat Info Dataset"
      ]
    },
    {
      "cell_type": "code",
      "execution_count": null,
      "metadata": {
        "colab": {
          "base_uri": "https://localhost:8080/"
        },
        "id": "iWPgCAElwElw",
        "outputId": "c40a2932-ca10-48a3-8b45-630db4706990"
      },
      "outputs": [
        {
          "output_type": "stream",
          "name": "stdout",
          "text": [
            "<class 'pandas.core.frame.DataFrame'>\n",
            "RangeIndex: 1210 entries, 0 to 1209\n",
            "Data columns (total 18 columns):\n",
            " #   Column   Non-Null Count  Dtype \n",
            "---  ------   --------------  ----- \n",
            " 0   Gender   1210 non-null   object\n",
            " 1   Age      1210 non-null   int64 \n",
            " 2   a1       1210 non-null   int64 \n",
            " 3   a2       1210 non-null   int64 \n",
            " 4   a3       1210 non-null   int64 \n",
            " 5   a4       1210 non-null   int64 \n",
            " 6   a5       1210 non-null   int64 \n",
            " 7   v1       1210 non-null   int64 \n",
            " 8   v2       1210 non-null   int64 \n",
            " 9   v3       1210 non-null   int64 \n",
            " 10  v4       1210 non-null   int64 \n",
            " 11  v5       1210 non-null   int64 \n",
            " 12  k1       1210 non-null   int64 \n",
            " 13  k2       1210 non-null   int64 \n",
            " 14  k3       1210 non-null   int64 \n",
            " 15  k4       1210 non-null   int64 \n",
            " 16  k5       1210 non-null   int64 \n",
            " 17  learner  1210 non-null   object\n",
            "dtypes: int64(16), object(2)\n",
            "memory usage: 170.3+ KB\n"
          ]
        }
      ],
      "source": [
        "df.info()"
      ]
    },
    {
      "cell_type": "code",
      "execution_count": null,
      "metadata": {
        "colab": {
          "base_uri": "https://localhost:8080/",
          "height": 410
        },
        "id": "V3hS7bP7BWoI",
        "outputId": "52c93603-d6ad-42a4-d070-99ba5c47de42"
      },
      "outputs": [
        {
          "output_type": "display_data",
          "data": {
            "text/plain": [
              "<Figure size 600x400 with 1 Axes>"
            ],
            "image/png": "[encoded data removed]"
          },
          "metadata": {}
        }
      ],
      "source": [
        "# Hitung jumlah data per label\n",
        "label_counts = df['learner'].value_counts()\n",
        "\n",
        "# --- Diagram Batang dengan jumlah data ---\n",
        "plt.figure(figsize=(6,4))\n",
        "bars = plt.bar(label_counts.index, label_counts.values, color=['skyblue', 'orange', 'green'])\n",
        "plt.title('Distribusi Gaya Belajar')\n",
        "plt.xlabel('Label')\n",
        "plt.ylabel('Jumlah Data')\n",
        "\n",
        "# Tambahkan jumlah di atas batang\n",
        "for bar in bars:\n",
        "    yval = bar.get_height()\n",
        "    plt.text(bar.get_x() + bar.get_width()/2, yval + 0.5, int(yval), ha='center', fontsize=10)\n",
        "\n",
        "plt.show()"
      ]
    },
    {
      "cell_type": "code",
      "execution_count": null,
      "metadata": {
        "id": "mAI5slbMwX4t"
      },
      "outputs": [],
      "source": [
        "df.drop(['Gender','Age'], axis=1, inplace=True)"
      ]
    },
    {
      "cell_type": "code",
      "execution_count": null,
      "metadata": {
        "colab": {
          "base_uri": "https://localhost:8080/",
          "height": 586
        },
        "id": "W8-ENQtYwYbQ",
        "outputId": "a8fcf138-1c2b-427e-f0c2-3c1c94135fce"
      },
      "outputs": [
        {
          "output_type": "execute_result",
          "data": {
            "text/plain": [
              "a1         0\n",
              "a2         0\n",
              "a3         0\n",
              "a4         0\n",
              "a5         0\n",
              "v1         0\n",
              "v2         0\n",
              "v3         0\n",
              "v4         0\n",
              "v5         0\n",
              "k1         0\n",
              "k2         0\n",
              "k3         0\n",
              "k4         0\n",
              "k5         0\n",
              "learner    0\n",
              "dtype: int64"
            ],
            "text/html": [
              "<div>\n",
              "<style scoped>\n",
              "    .dataframe tbody tr th:only-of-type {\n",
              "        vertical-align: middle;\n",
              "    }\n",
              "\n",
              "    .dataframe tbody tr th {\n",
              "        vertical-align: top;\n",
              "    }\n",
              "\n",
              "    .dataframe thead th {\n",
              "        text-align: right;\n",
              "    }\n",
              "</style>\n",
              "<table border=\"1\" class=\"dataframe\">\n",
              "  <thead>\n",
              "    <tr style=\"text-align: right;\">\n",
              "      <th></th>\n",
              "      <th>0</th>\n",
              "    </tr>\n",
              "  </thead>\n",
              "  <tbody>\n",
              "    <tr>\n",
              "      <th>a1</th>\n",
              "      <td>0</td>\n",
              "    </tr>\n",
              "    <tr>\n",
              "      <th>a2</th>\n",
              "      <td>0</td>\n",
              "    </tr>\n",
              "    <tr>\n",
              "      <th>a3</th>\n",
              "      <td>0</td>\n",
              "    </tr>\n",
              "    <tr>\n",
              "      <th>a4</th>\n",
              "      <td>0</td>\n",
              "    </tr>\n",
              "    <tr>\n",
              "      <th>a5</th>\n",
              "      <td>0</td>\n",
              "    </tr>\n",
              "    <tr>\n",
              "      <th>v1</th>\n",
              "      <td>0</td>\n",
              "    </tr>\n",
              "    <tr>\n",
              "      <th>v2</th>\n",
              "      <td>0</td>\n",
              "    </tr>\n",
              "    <tr>\n",
              "      <th>v3</th>\n",
              "      <td>0</td>\n",
              "    </tr>\n",
              "    <tr>\n",
              "      <th>v4</th>\n",
              "      <td>0</td>\n",
              "    </tr>\n",
              "    <tr>\n",
              "      <th>v5</th>\n",
              "      <td>0</td>\n",
              "    </tr>\n",
              "    <tr>\n",
              "      <th>k1</th>\n",
              "      <td>0</td>\n",
              "    </tr>\n",
              "    <tr>\n",
              "      <th>k2</th>\n",
              "      <td>0</td>\n",
              "    </tr>\n",
              "    <tr>\n",
              "      <th>k3</th>\n",
              "      <td>0</td>\n",
              "    </tr>\n",
              "    <tr>\n",
              "      <th>k4</th>\n",
              "      <td>0</td>\n",
              "    </tr>\n",
              "    <tr>\n",
              "      <th>k5</th>\n",
              "      <td>0</td>\n",
              "    </tr>\n",
              "    <tr>\n",
              "      <th>learner</th>\n",
              "      <td>0</td>\n",
              "    </tr>\n",
              "  </tbody>\n",
              "</table>\n",
              "</div><br><label><b>dtype:</b> int64</label>"
            ]
          },
          "metadata": {},
          "execution_count": 10
        }
      ],
      "source": [
        "df.isnull().sum()"
      ]
    },
    {
      "cell_type": "code",
      "execution_count": null,
      "metadata": {
        "id": "EQwyPtViwdbN"
      },
      "outputs": [],
      "source": [
        "x = df.drop('learner', axis=1)\n",
        "y = df['learner']"
      ]
    },
    {
      "cell_type": "code",
      "execution_count": null,
      "metadata": {
        "id": "15QM6eEAwi0d"
      },
      "outputs": [],
      "source": [
        "from sklearn.preprocessing import LabelEncoder\n",
        "\n",
        "\n",
        "x_train, x_test, y_train, y_test = train_test_split(x, y, test_size=0.1, random_state=0)\n",
        "\n",
        "le = LabelEncoder()\n",
        "y_train_enc = le.fit_transform(y_train)\n",
        "y_test_enc = le.transform(y_test)\n",
        "\n",
        "smote = SMOTE(sampling_strategy='auto', random_state=42)\n",
        "x_train_res, y_train_res = smote.fit_resample(x_train, y_train_enc)"
      ]
    },
    {
      "cell_type": "code",
      "execution_count": null,
      "metadata": {
        "colab": {
          "base_uri": "https://localhost:8080/",
          "height": 432
        },
        "id": "2qWFNKzyH0zx",
        "outputId": "90173055-303a-4586-e33e-20e1e23d0783"
      },
      "outputs": [
        {
          "output_type": "stream",
          "name": "stdout",
          "text": [
            "\n",
            "Distribusi sesudah SMOTE:\n",
            "0    540\n",
            "1    540\n",
            "2    540\n",
            "Name: count, dtype: int64\n"
          ]
        },
        {
          "output_type": "display_data",
          "data": {
            "text/plain": [
              "<Figure size 500x300 with 1 Axes>"
            ],
            "image/png": "[encoded data removed]"
          },
          "metadata": {}
        }
      ],
      "source": [
        "# Lihat distribusi sesudah SMOTE\n",
        "print(\"\\nDistribusi sesudah SMOTE:\")\n",
        "print(pd.Series(y_train_res).value_counts())\n",
        "\n",
        "# Visualisasi sesudah SMOTE\n",
        "plt.figure(figsize=(5,3))\n",
        "pd.Series(y_train_res).value_counts().plot(kind='bar', color=['skyblue','orange','green'])\n",
        "plt.title(\"Distribusi Label Sesudah SMOTE\")\n",
        "plt.xlabel(\"Label\")\n",
        "plt.ylabel(\"Jumlah Data\")\n",
        "plt.show()"
      ]
    },
    {
      "cell_type": "code",
      "execution_count": null,
      "metadata": {
        "colab": {
          "base_uri": "https://localhost:8080/"
        },
        "id": "r0-TMjWWwrUL",
        "outputId": "45c35f73-b190-4a76-a141-83e8c4b46b45"
      },
      "outputs": [
        {
          "output_type": "stream",
          "name": "stdout",
          "text": [
            "(1620, 15)\n",
            "(1620,)\n",
            "(242, 15)\n",
            "(242,)\n"
          ]
        }
      ],
      "source": [
        "print(x_train_res.shape)\n",
        "print(y_train_res.shape)\n",
        "print(x_test.shape)\n",
        "print(y_test.shape)"
      ]
    },
    {
      "cell_type": "code",
      "execution_count": null,
      "metadata": {
        "colab": {
          "base_uri": "https://localhost:8080/"
        },
        "id": "n52rxJxhVUZl",
        "outputId": "2cec33d8-cece-41de-fb72-e7ba726edd95"
      },
      "outputs": [
        {
          "output_type": "stream",
          "name": "stdout",
          "text": [
            "Fitting 5 folds for each of 648 candidates, totalling 3240 fits\n",
            "Best parameters: {'colsample_bytree': 0.8, 'gamma': 0, 'learning_rate': 0.1, 'max_depth': 3, 'min_child_weight': 1, 'n_estimators': 700, 'subsample': 0.8}\n",
            "Best CV score: 0.9475409836065574\n",
            "Akurasi data training: 100.0\n",
            "Akurasi data testing: 90.91\n"
          ]
        }
      ],
      "source": [
        "from sklearn.model_selection import GridSearchCV\n",
        "from xgboost import XGBClassifier\n",
        "import numpy as np\n",
        "\n",
        "# Parameter grid (dibuat kecil biar proses cepat)\n",
        "param_grid = {\n",
        "    'n_estimators': [300, 500, 700],\n",
        "    'max_depth': [3, 4, 5],\n",
        "    'min_child_weight': [1, 5, 10],\n",
        "    'gamma': [0, 0.1, 0.2],\n",
        "    'subsample': [0.8, 1.0],\n",
        "    'colsample_bytree': [0.8, 1.0],\n",
        "    'learning_rate': [0.05, 0.1]\n",
        "}\n",
        "\n",
        "# Model dasar\n",
        "xgb = XGBClassifier(\n",
        "    objective='multi:softmax',\n",
        "    num_class=len(np.unique(y_train_res)),\n",
        "    eval_metric='mlogloss',\n",
        "    random_state=0\n",
        ")\n",
        "\n",
        "# GridSearch\n",
        "grid_search = GridSearchCV(\n",
        "    estimator=xgb,\n",
        "    param_grid=param_grid,\n",
        "    scoring='accuracy',\n",
        "    cv=5,\n",
        "    verbose=1,\n",
        "    n_jobs=-1\n",
        ")\n",
        "\n",
        "# Jalankan tuning\n",
        "grid_search.fit(x_train_res, y_train_res)\n",
        "\n",
        "print(\"Best parameters:\", grid_search.best_params_)\n",
        "print(\"Best CV score:\", grid_search.best_score_)\n",
        "\n",
        "# Gunakan model terbaik\n",
        "best_model = grid_search.best_estimator_\n",
        "\n",
        "# Evaluasi\n",
        "accuracy_train = best_model.score(x_train_res, y_train_res)\n",
        "accuracy_test = best_model.score(x_test, y_test_enc)\n",
        "\n",
        "print('Akurasi data training:', np.round(accuracy_train * 100, 2))\n",
        "print('Akurasi data testing:', np.round(accuracy_test * 100, 2))\n"
      ]
    },
    {
      "cell_type": "code",
      "execution_count": null,
      "metadata": {
        "colab": {
          "base_uri": "https://localhost:8080/"
        },
        "id": "3pVcJLArwxKJ",
        "outputId": "6cb26dc6-a96c-43d6-c03b-d68f927b4fe7"
      },
      "outputs": [
        {
          "output_type": "stream",
          "name": "stdout",
          "text": [
            "Akurasi data training: 95.41\n",
            "Akurasi data testing: 93.39\n"
          ]
        }
      ],
      "source": [
        "from sklearn.preprocessing import LabelEncoder\n",
        "from xgboost import XGBClassifier\n",
        "import numpy as np\n",
        "\n",
        "# Model XGBoost\n",
        "model = XGBClassifier(\n",
        "    n_estimators=600,\n",
        "    random_state=0,\n",
        "    max_depth=1,\n",
        "    min_child_weight=0,\n",
        "    gamma=0.1,\n",
        "    objective='multi:softprob',\n",
        "    num_class=len(np.unique(y_train_res))\n",
        ")\n",
        "model.fit(x_train_res, y_train_res)\n",
        "\n",
        "# Prediksi\n",
        "y_pred = model.predict(x_test)\n",
        "\n",
        "# Evaluasi\n",
        "accuracy_train = model.score(x_train_res, y_train_res)\n",
        "accuracy_test = model.score(x_test, y_test_enc)\n",
        "\n",
        "print('Akurasi data training:', np.round(accuracy_train * 100, 2))\n",
        "print('Akurasi data testing:', np.round(accuracy_test * 100, 2))\n"
      ]
    },
    {
      "cell_type": "code",
      "execution_count": null,
      "metadata": {
        "colab": {
          "base_uri": "https://localhost:8080/",
          "height": 584
        },
        "id": "a0x9Bg7eNnDN",
        "outputId": "c0f6de57-c59c-4d87-8017-4ee6999a8409"
      },
      "outputs": [
        {
          "output_type": "display_data",
          "data": {
            "text/plain": [
              "<Figure size 600x400 with 2 Axes>"
            ],
            "image/png": "[encoded data removed]"
          },
          "metadata": {}
        },
        {
          "output_type": "stream",
          "name": "stdout",
          "text": [
            "              precision    recall  f1-score   support\n",
            "\n",
            "           A       0.94      0.91      0.92        53\n",
            "           K       0.95      0.93      0.94       139\n",
            "           V       0.87      0.96      0.91        50\n",
            "\n",
            "    accuracy                           0.93       242\n",
            "   macro avg       0.92      0.93      0.93       242\n",
            "weighted avg       0.93      0.93      0.93       242\n",
            "\n"
          ]
        }
      ],
      "source": [
        "import matplotlib.pyplot as plt\n",
        "import seaborn as sns\n",
        "from sklearn.metrics import confusion_matrix, classification_report\n",
        "\n",
        "# Confusion Matrix\n",
        "cm = confusion_matrix(y_test_enc, y_pred)\n",
        "plt.figure(figsize=(6,4))\n",
        "sns.heatmap(cm, annot=True, fmt=\"d\", cmap=\"Blues\",\n",
        "            xticklabels=le.classes_,\n",
        "            yticklabels=le.classes_)\n",
        "plt.xlabel(\"Predicted Label\")\n",
        "plt.ylabel(\"True Label\")\n",
        "plt.title(\"Confusion Matrix - XGBoost\")\n",
        "plt.show()\n",
        "\n",
        "# Classification Report\n",
        "print(classification_report(y_test_enc, y_pred, target_names=le.classes_))"
      ]
    },
    {
      "cell_type": "code",
      "execution_count": null,
      "metadata": {
        "colab": {
          "base_uri": "https://localhost:8080/",
          "height": 489
        },
        "id": "-4rqEjtnNvSj",
        "outputId": "78a3bda5-d8f3-4430-e307-c82a639d5bf6"
      },
      "outputs": [
        {
          "output_type": "display_data",
          "data": {
            "text/plain": [
              "<Figure size 800x600 with 0 Axes>"
            ]
          },
          "metadata": {}
        },
        {
          "output_type": "display_data",
          "data": {
            "text/plain": [
              "<Figure size 640x480 with 1 Axes>"
            ],
            "image/png": "[encoded data removed]"
          },
          "metadata": {}
        }
      ],
      "source": [
        "from xgboost import plot_importance\n",
        "\n",
        "plt.figure(figsize=(8,6))\n",
        "plot_importance(model, max_num_features=10, importance_type='gain')\n",
        "plt.title(\"Top 10 Feature Importance - XGBoost\")\n",
        "plt.show()\n"
      ]
    },
    {
      "cell_type": "code",
      "execution_count": null,
      "metadata": {
        "colab": {
          "base_uri": "https://localhost:8080/",
          "height": 410
        },
        "id": "szhK8J0qNy0p",
        "outputId": "91124ee5-36f8-49dc-9ea2-998e9b3eb989"
      },
      "outputs": [
        {
          "output_type": "display_data",
          "data": {
            "text/plain": [
              "<Figure size 600x400 with 1 Axes>"
            ],
            "image/png": "[encoded data removed]"
          },
          "metadata": {}
        }
      ],
      "source": [
        "from sklearn.model_selection import learning_curve\n",
        "\n",
        "train_sizes, train_scores, test_scores = learning_curve(\n",
        "    model, x_train_res, y_train_res, cv=5, scoring='accuracy', n_jobs=-1\n",
        ")\n",
        "train_scores_mean = np.mean(train_scores, axis=1)\n",
        "test_scores_mean = np.mean(test_scores, axis=1)\n",
        "\n",
        "plt.figure(figsize=(6,4))\n",
        "plt.plot(train_sizes, train_scores_mean, 'o-', color=\"r\", label=\"Training score\")\n",
        "plt.plot(train_sizes, test_scores_mean, 'o-', color=\"b\", label=\"Cross-validation score\")\n",
        "plt.xlabel(\"Training examples\")\n",
        "plt.ylabel(\"Score\")\n",
        "plt.title(\"Learning Curve - XGBoost\")\n",
        "plt.legend(loc=\"best\")\n",
        "plt.show()\n"
      ]
    },
    {
      "cell_type": "code",
      "execution_count": null,
      "metadata": {
        "colab": {
          "base_uri": "https://localhost:8080/",
          "height": 554
        },
        "id": "GRVRtpYfw_HP",
        "outputId": "90b94c46-b6b1-431f-8243-e409d40ad934"
      },
      "outputs": [
        {
          "data": {
            "text/html": [
              "<div>\n",
              "<style scoped>\n",
              "    .dataframe tbody tr th:only-of-type {\n",
              "        vertical-align: middle;\n",
              "    }\n",
              "\n",
              "    .dataframe tbody tr th {\n",
              "        vertical-align: top;\n",
              "    }\n",
              "\n",
              "    .dataframe thead th {\n",
              "        text-align: right;\n",
              "    }\n",
              "</style>\n",
              "<table border=\"1\" class=\"dataframe\">\n",
              "  <thead>\n",
              "    <tr style=\"text-align: right;\">\n",
              "      <th></th>\n",
              "      <th>0</th>\n",
              "    </tr>\n",
              "  </thead>\n",
              "  <tbody>\n",
              "    <tr>\n",
              "      <th>k5</th>\n",
              "      <td>0.109040</td>\n",
              "    </tr>\n",
              "    <tr>\n",
              "      <th>k3</th>\n",
              "      <td>0.108231</td>\n",
              "    </tr>\n",
              "    <tr>\n",
              "      <th>v3</th>\n",
              "      <td>0.080863</td>\n",
              "    </tr>\n",
              "    <tr>\n",
              "      <th>k1</th>\n",
              "      <td>0.079407</td>\n",
              "    </tr>\n",
              "    <tr>\n",
              "      <th>v5</th>\n",
              "      <td>0.070684</td>\n",
              "    </tr>\n",
              "    <tr>\n",
              "      <th>k4</th>\n",
              "      <td>0.069525</td>\n",
              "    </tr>\n",
              "    <tr>\n",
              "      <th>v4</th>\n",
              "      <td>0.068277</td>\n",
              "    </tr>\n",
              "    <tr>\n",
              "      <th>v2</th>\n",
              "      <td>0.060433</td>\n",
              "    </tr>\n",
              "    <tr>\n",
              "      <th>a1</th>\n",
              "      <td>0.060185</td>\n",
              "    </tr>\n",
              "    <tr>\n",
              "      <th>v1</th>\n",
              "      <td>0.059593</td>\n",
              "    </tr>\n",
              "    <tr>\n",
              "      <th>a5</th>\n",
              "      <td>0.059395</td>\n",
              "    </tr>\n",
              "    <tr>\n",
              "      <th>a2</th>\n",
              "      <td>0.047663</td>\n",
              "    </tr>\n",
              "    <tr>\n",
              "      <th>a4</th>\n",
              "      <td>0.046717</td>\n",
              "    </tr>\n",
              "    <tr>\n",
              "      <th>k2</th>\n",
              "      <td>0.044442</td>\n",
              "    </tr>\n",
              "    <tr>\n",
              "      <th>a3</th>\n",
              "      <td>0.035544</td>\n",
              "    </tr>\n",
              "  </tbody>\n",
              "</table>\n",
              "</div><br><label><b>dtype:</b> float32</label>"
            ],
            "text/plain": [
              "k5    0.109040\n",
              "k3    0.108231\n",
              "v3    0.080863\n",
              "k1    0.079407\n",
              "v5    0.070684\n",
              "k4    0.069525\n",
              "v4    0.068277\n",
              "v2    0.060433\n",
              "a1    0.060185\n",
              "v1    0.059593\n",
              "a5    0.059395\n",
              "a2    0.047663\n",
              "a4    0.046717\n",
              "k2    0.044442\n",
              "a3    0.035544\n",
              "dtype: float32"
            ]
          },
          "execution_count": 184,
          "metadata": {},
          "output_type": "execute_result"
        }
      ],
      "source": [
        "feature_scores = pd.Series(model.feature_importances_, index=x_train.columns).sort_values(ascending=False)\n",
        "feature_scores"
      ]
    },
    {
      "cell_type": "code",
      "execution_count": null,
      "metadata": {
        "colab": {
          "base_uri": "https://localhost:8080/"
        },
        "id": "bGVXDD7SxMdO",
        "outputId": "9351fce2-cc9f-411a-8131-b3b83530607b"
      },
      "outputs": [
        {
          "output_type": "stream",
          "name": "stdout",
          "text": [
            "Akurasi data training:  0.0\n",
            "Akurasi data testing:  0.0\n"
          ]
        }
      ],
      "source": [
        "accuracy_train = model.score(x_train, y_train)\n",
        "accuracy_test = model.score(x_test, y_test)\n",
        "\n",
        "print('Akurasi data training: ', accuracy_train)\n",
        "print('Akurasi data testing: ', np.round(accuracy_test * 100))"
      ]
    },
    {
      "cell_type": "code",
      "execution_count": null,
      "metadata": {
        "colab": {
          "base_uri": "https://localhost:8080/",
          "height": 388
        },
        "id": "7VLeCSC5xVSb",
        "outputId": "e4e21e2f-b85e-4414-e080-7f1695b9741c"
      },
      "outputs": [
        {
          "data": {
            "image/png": "[encoded data removed]",
            "text/plain": [
              "<Figure size 600x400 with 2 Axes>"
            ]
          },
          "metadata": {},
          "output_type": "display_data"
        }
      ],
      "source": [
        "confusion_matrix(y_test, y_pred)\n",
        "\n",
        "f, ax = plt.subplots(figsize=(6, 4))\n",
        "sns.heatmap(confusion_matrix(y_test,y_pred), annot=True, fmt=\".0f\", ax=ax, cmap=\"Blues\", xticklabels=['A','AK','AV','AVK','K','V','VK'], yticklabels=['A','AK','AV','AVK','K','V','VK'])\n",
        "plt.xlabel(\"Predicted Label\")\n",
        "plt.ylabel(\"True Label\")\n",
        "plt.show()"
      ]
    },
    {
      "cell_type": "code",
      "execution_count": null,
      "metadata": {
        "colab": {
          "base_uri": "https://localhost:8080/"
        },
        "id": "na6qXQVxyiED",
        "outputId": "780a8ddb-9585-4391-86f3-b4bce3b9baa5"
      },
      "outputs": [
        {
          "output_type": "stream",
          "name": "stdout",
          "text": [
            "              precision    recall  f1-score   support\n",
            "\n",
            "           A       0.78      0.84      0.81        25\n",
            "           K       0.93      0.90      0.91        69\n",
            "           V       0.89      0.89      0.89        27\n",
            "\n",
            "    accuracy                           0.88       121\n",
            "   macro avg       0.86      0.88      0.87       121\n",
            "weighted avg       0.89      0.88      0.89       121\n",
            "\n"
          ]
        }
      ],
      "source": [
        "from sklearn.metrics import classification_report\n",
        "\n",
        "# Pastikan y_test sudah di-encode, dan y_pred hasil prediksi model\n",
        "print(classification_report(\n",
        "    y_test_enc,                # label asli test (encoded)\n",
        "    y_pred,                     # hasil prediksi\n",
        "    target_names=le.classes_    # nama kelas asli dari LabelEncoder\n",
        "))\n"
      ]
    }
  ],
  "metadata": {
    "colab": {
      "provenance": [],
      "authorship_tag": "ABX9TyMQZPKdTT3lVM+MB0touLU4",
      "include_colab_link": true
    },
    "kernelspec": {
      "display_name": "Python 3",
      "name": "python3"
    },
    "language_info": {
      "name": "python"
    }
  },
  "nbformat": 4,
  "nbformat_minor": 0
}